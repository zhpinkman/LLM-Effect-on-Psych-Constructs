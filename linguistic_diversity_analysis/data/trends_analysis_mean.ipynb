{
 "cells": [
  {
   "cell_type": "code",
   "execution_count": 41,
   "metadata": {},
   "outputs": [],
   "source": [
    "import pandas as pd\n",
    "import numpy as np\n",
    "import json\n",
    "import os\n",
    "import matplotlib.pyplot as plt\n",
    "import seaborn as sns\n",
    "import plotly.express as px"
   ]
  },
  {
   "cell_type": "code",
   "execution_count": 42,
   "metadata": {},
   "outputs": [],
   "source": [
    "columns_about_complexity = [\n",
    "    \"voc_simpson_index\",\n",
    "    \"voc_shannon_entropy\",\n",
    "    \"lex_avg_dependency_link_length\",\n",
    "    \"voc_type_token_ratio\",\n",
    "    \"voc_hapax_legomena\",\n",
    "    # \"liwc_pronoun\",\n",
    "    # \"liwc_affect\",\n",
    "    # \"liwc_posemo\",\n",
    "    # \"liwc_anger\",\n",
    "    # \"liwc_sad\",\n",
    "    # \"liwc_swear\",\n",
    "    # \"liwc_social\",\n",
    "    # \"liwc_death\",\n",
    "    # # \"liwc_conversation\",\n",
    "    # # liwc_netspeak\",\n",
    "    # \"liwc_assent\",\n",
    "    # \"liwc_nonfl\",\n",
    "    # \"liwc_filler\",\n",
    "    # \"liwc_anx\",\n",
    "    # so far so good\n",
    "]"
   ]
  },
  {
   "cell_type": "code",
   "execution_count": 43,
   "metadata": {},
   "outputs": [],
   "source": [
    "def is_in_importants(column):\n",
    "    for important_column in columns_about_complexity:\n",
    "        if column.endswith(important_column):\n",
    "            return True\n",
    "    return False"
   ]
  },
  {
   "cell_type": "markdown",
   "metadata": {},
   "source": [
    "# Analysis on the interdependence of trends between the AI-detection analysis, grammar_errors, and other stylistic features"
   ]
  },
  {
   "cell_type": "code",
   "execution_count": 44,
   "metadata": {},
   "outputs": [],
   "source": [
    "papers_main_df = pd.read_csv(\"papers/cl_cv_papers_clean_similarities.csv\")\n",
    "reddit_main_df = pd.read_csv(\"reddit/reddit_clean_similarities.csv\")\n",
    "news_main_df = pd.read_csv(\"news/news_clean_similarities.csv\")\n",
    "\n",
    "# drop all the data that its year is before 2018\n",
    "papers_main_df = papers_main_df[papers_main_df[\"year\"] >= 2018]\n",
    "reddit_main_df = reddit_main_df[reddit_main_df[\"year\"] >= 2018]\n",
    "news_main_df = news_main_df[news_main_df[\"year\"] >= 2018]"
   ]
  },
  {
   "cell_type": "code",
   "execution_count": 45,
   "metadata": {},
   "outputs": [],
   "source": [
    "for feature_index in range(len(columns_about_complexity)):\n",
    "    selected_col = f\"mean_{columns_about_complexity[feature_index]}\"\n",
    "    news_main_df[\"date\"] = pd.to_datetime(\n",
    "        news_main_df[\"year\"].astype(str) + \"-\" + news_main_df[\"month\"].astype(str)\n",
    "    )\n",
    "    values = (\n",
    "        news_main_df[\n",
    "            [\n",
    "                \"year\",\n",
    "                \"month\",\n",
    "                *[f\"mean_{col}\" for col in columns_about_complexity],\n",
    "            ]\n",
    "        ][selected_col]\n",
    "        .rolling(window=5)\n",
    "        .mean()\n",
    "    )\n",
    "\n",
    "    values.bfill(inplace=True)\n",
    "\n",
    "    news_main_df[selected_col] = values\n",
    "\n",
    "news_main_df.drop(columns=[\"date\"], inplace=True)"
   ]
  },
  {
   "cell_type": "code",
   "execution_count": 46,
   "metadata": {},
   "outputs": [],
   "source": [
    "for feature_index in range(len(columns_about_complexity)):\n",
    "    selected_col = f\"mean_{columns_about_complexity[feature_index]}\"\n",
    "    papers_main_df[\"date\"] = pd.to_datetime(\n",
    "        papers_main_df[\"year\"].astype(str) + \"-\" + papers_main_df[\"month\"].astype(str)\n",
    "    )\n",
    "    values = (\n",
    "        papers_main_df[\n",
    "            [\n",
    "                \"year\",\n",
    "                \"month\",\n",
    "                *[f\"mean_{col}\" for col in columns_about_complexity],\n",
    "            ]\n",
    "        ][selected_col]\n",
    "        .rolling(window=5)\n",
    "        .mean()\n",
    "    )\n",
    "\n",
    "    values.bfill(inplace=True)\n",
    "\n",
    "    papers_main_df[selected_col] = values\n",
    "\n",
    "papers_main_df.drop(columns=[\"date\"], inplace=True)"
   ]
  },
  {
   "cell_type": "code",
   "execution_count": 47,
   "metadata": {},
   "outputs": [],
   "source": [
    "for feature_index in range(len(columns_about_complexity)):\n",
    "    selected_col = f\"mean_{columns_about_complexity[feature_index]}\"\n",
    "    reddit_main_df[\"date\"] = pd.to_datetime(\n",
    "        reddit_main_df[\"year\"].astype(str) + \"-\" + reddit_main_df[\"month\"].astype(str)\n",
    "    )\n",
    "    values = (\n",
    "        reddit_main_df[\n",
    "            [\n",
    "                \"year\",\n",
    "                \"month\",\n",
    "                *[f\"mean_{col}\" for col in columns_about_complexity],\n",
    "            ]\n",
    "        ][selected_col]\n",
    "        .rolling(window=5)\n",
    "        .mean()\n",
    "    )\n",
    "\n",
    "    values.bfill(inplace=True)\n",
    "\n",
    "    reddit_main_df[selected_col] = values\n",
    "\n",
    "reddit_main_df.drop(columns=[\"date\"], inplace=True)"
   ]
  },
  {
   "cell_type": "code",
   "execution_count": 48,
   "metadata": {},
   "outputs": [
    {
     "name": "stderr",
     "output_type": "stream",
     "text": [
      "/var/folders/s6/_dcfmqnx4mxbhf22rbww8kwc0000gp/T/ipykernel_19847/3940610993.py:1: DtypeWarning:\n",
      "\n",
      "Columns (0) have mixed types. Specify dtype option on import or set low_memory=False.\n",
      "\n"
     ]
    }
   ],
   "source": [
    "papers_grammar_errors_df = pd.read_csv(\"papers/cl_cv_papers_errors.csv\")\n",
    "news_grammar_errors_df = pd.read_csv(\"news/news_errors.csv\")\n",
    "reddit_errors_df = pd.read_csv(\"reddit/reddit_errors.csv\")\n",
    "\n",
    "\n",
    "papers_grammar_errors_df = papers_grammar_errors_df[\n",
    "    papers_grammar_errors_df[\"year\"] >= 2018\n",
    "]\n",
    "papers_grammar_errors_df = (\n",
    "    papers_grammar_errors_df.groupby([\"year\", \"month\"])[\"num_errors\"]\n",
    "    .mean()\n",
    "    .reset_index()\n",
    ")\n",
    "news_grammar_errors_df = news_grammar_errors_df[news_grammar_errors_df[\"year\"] >= 2018]\n",
    "news_grammar_errors_df = (\n",
    "    news_grammar_errors_df.groupby([\"year\", \"month\"])[\"num_errors\"].mean().reset_index()\n",
    ")\n",
    "reddit_errors_df = reddit_errors_df[reddit_errors_df[\"year\"] >= 2018]\n",
    "reddit_errors_df = (\n",
    "    reddit_errors_df.groupby([\"year\", \"month\"])[\"num_errors\"].mean().reset_index()\n",
    ")"
   ]
  },
  {
   "cell_type": "code",
   "execution_count": 49,
   "metadata": {},
   "outputs": [
    {
     "name": "stderr",
     "output_type": "stream",
     "text": [
      "/var/folders/s6/_dcfmqnx4mxbhf22rbww8kwc0000gp/T/ipykernel_19847/2375400242.py:9: DtypeWarning:\n",
      "\n",
      "Columns (0) have mixed types. Specify dtype option on import or set low_memory=False.\n",
      "\n"
     ]
    },
    {
     "data": {
      "application/vnd.plotly.v1+json": {
       "config": {
        "plotlyServerURL": "https://plot.ly"
       },
       "data": [
        {
         "hovertemplate": "Date=%{x}<br>AI Written Detection=%{y}<extra></extra>",
         "legendgroup": "",
         "line": {
          "color": "#636efa",
          "dash": "solid"
         },
         "marker": {
          "symbol": "circle"
         },
         "mode": "lines",
         "name": "",
         "orientation": "v",
         "showlegend": false,
         "type": "scatter",
         "x": [
          "2018-01-01T00:00:00",
          "2018-02-01T00:00:00",
          "2018-03-01T00:00:00",
          "2018-04-01T00:00:00",
          "2018-05-01T00:00:00",
          "2018-06-01T00:00:00",
          "2018-07-01T00:00:00",
          "2018-08-01T00:00:00",
          "2018-09-01T00:00:00",
          "2018-10-01T00:00:00",
          "2018-11-01T00:00:00",
          "2018-12-01T00:00:00",
          "2019-01-01T00:00:00",
          "2019-02-01T00:00:00",
          "2019-03-01T00:00:00",
          "2019-04-01T00:00:00",
          "2019-05-01T00:00:00",
          "2019-06-01T00:00:00",
          "2019-07-01T00:00:00",
          "2019-08-01T00:00:00",
          "2019-09-01T00:00:00",
          "2019-10-01T00:00:00",
          "2019-11-01T00:00:00",
          "2019-12-01T00:00:00",
          "2020-01-01T00:00:00",
          "2020-02-01T00:00:00",
          "2020-03-01T00:00:00",
          "2020-04-01T00:00:00",
          "2020-05-01T00:00:00",
          "2020-06-01T00:00:00",
          "2020-07-01T00:00:00",
          "2020-08-01T00:00:00",
          "2020-09-01T00:00:00",
          "2020-10-01T00:00:00",
          "2020-11-01T00:00:00",
          "2020-12-01T00:00:00",
          "2021-01-01T00:00:00",
          "2021-02-01T00:00:00",
          "2021-03-01T00:00:00",
          "2021-04-01T00:00:00",
          "2021-05-01T00:00:00",
          "2021-06-01T00:00:00",
          "2021-07-01T00:00:00",
          "2021-08-01T00:00:00",
          "2021-09-01T00:00:00",
          "2021-10-01T00:00:00",
          "2021-11-01T00:00:00",
          "2021-12-01T00:00:00",
          "2022-01-01T00:00:00",
          "2022-02-01T00:00:00",
          "2022-03-01T00:00:00",
          "2022-04-01T00:00:00",
          "2022-05-01T00:00:00",
          "2022-06-01T00:00:00",
          "2022-07-01T00:00:00",
          "2022-08-01T00:00:00",
          "2022-09-01T00:00:00",
          "2022-10-01T00:00:00",
          "2022-11-01T00:00:00",
          "2022-12-01T00:00:00",
          "2023-01-01T00:00:00",
          "2023-02-01T00:00:00",
          "2023-03-01T00:00:00",
          "2023-04-01T00:00:00",
          "2023-05-01T00:00:00",
          "2023-06-01T00:00:00",
          "2023-07-01T00:00:00",
          "2023-08-01T00:00:00",
          "2023-09-01T00:00:00",
          "2023-10-01T00:00:00",
          "2023-11-01T00:00:00",
          "2023-12-01T00:00:00",
          "2024-01-01T00:00:00",
          "2024-02-01T00:00:00",
          "2024-03-01T00:00:00",
          "2024-04-01T00:00:00",
          "2024-05-01T00:00:00",
          "2024-06-01T00:00:00",
          "2024-07-01T00:00:00",
          "2024-08-01T00:00:00",
          "2024-09-01T00:00:00",
          "2024-10-01T00:00:00",
          "2024-11-01T00:00:00"
         ],
         "xaxis": "x",
         "y": [
          null,
          null,
          null,
          null,
          0.002007468233887474,
          0.002383408083511534,
          0.00267159252155188,
          0.00268564885501136,
          0.00273141812764273,
          0.003186713567514559,
          0.0033846618097125936,
          0.0035080000054171037,
          0.004619204543374634,
          0.004261422790244045,
          0.0036117507587189756,
          0.003242990872025086,
          0.00283146823828023,
          0.0008748837748643537,
          0.0012251464718871208,
          0.0011390282132505032,
          0.000933900008122298,
          0.0012672333414556313,
          0.0020436807436235286,
          0.002491821240213536,
          0.003159054573658859,
          0.003159054573658859,
          0.0031181189011442387,
          0.002761207734523192,
          0.001962804540910418,
          0.001646600197617902,
          0.001646600197617902,
          0.0016474576687639981,
          0.0012518448781932245,
          0.0012518448781932245,
          0.0014001990355188825,
          0.0014001990355188825,
          0.0014686075563569664,
          0.0011439322316816416,
          0.0011439322316816416,
          0.0007147086660420813,
          0.0007147086660420813,
          0.00035304501323918803,
          0.00035304501323918803,
          0.00035304501323918803,
          0.00018814675446848542,
          0.0004000111612481465,
          0.0006915563507525195,
          0.0009450417753406057,
          0.0009450417753406057,
          0.001193576243579544,
          0.0011366305044993408,
          0.0012041517422840158,
          0.0009506663176959296,
          0.0012083982764588162,
          0.0009491793430149243,
          0.0007942606753154665,
          0.000435194248026418,
          0.0005728404971661289,
          0.00048317576529399866,
          0.0007582021638132727,
          0.002768252415069554,
          0.003839202883610384,
          0.004647502580416619,
          0.005193721067811578,
          0.005408789122351869,
          0.005118429326813559,
          0.0053820832434014225,
          0.005371966174460825,
          0.0051384496909443415,
          0.004832556601424136,
          0.003545766578606599,
          0.002616020493073047,
          0.0021571391518387644,
          0.002473818086938752,
          0.0024982548202362445,
          0.002356616523258142,
          0.00241418596932774,
          0.002137739686689507,
          0.0019949560052720068,
          0.002160123535378898,
          0.0022793283055622627,
          0.0023133324556468245,
          0.002829677080650193
         ],
         "yaxis": "y"
        }
       ],
       "layout": {
        "annotations": [
         {
          "showarrow": false,
          "text": "BERT Release",
          "x": "2018-10-01",
          "xanchor": "center",
          "y": -0.1,
          "yanchor": "top",
          "yref": "paper"
         },
         {
          "showarrow": false,
          "text": "GPT-2 Release",
          "x": "2019-02-01",
          "xanchor": "center",
          "y": -0.2,
          "yanchor": "top",
          "yref": "paper"
         },
         {
          "showarrow": false,
          "text": "ChatGPT Release",
          "x": "2022-11-01",
          "xanchor": "center",
          "y": -0.1,
          "yanchor": "top",
          "yref": "paper"
         },
         {
          "showarrow": false,
          "text": "GPT-4 Release",
          "x": "2023-03-14",
          "xanchor": "center",
          "y": -0.2,
          "yanchor": "top",
          "yref": "paper"
         }
        ],
        "legend": {
         "tracegroupgap": 0
        },
        "shapes": [
         {
          "line": {
           "color": "green",
           "dash": "dash"
          },
          "type": "line",
          "x0": "2018-10-01",
          "x1": "2018-10-01",
          "xref": "x",
          "y0": 0,
          "y1": 1,
          "yref": "y domain"
         },
         {
          "line": {
           "color": "orange",
           "dash": "dash"
          },
          "type": "line",
          "x0": "2019-02-01",
          "x1": "2019-02-01",
          "xref": "x",
          "y0": 0,
          "y1": 1,
          "yref": "y domain"
         },
         {
          "line": {
           "color": "red",
           "dash": "dash"
          },
          "type": "line",
          "x0": "2022-11-01",
          "x1": "2022-11-01",
          "xref": "x",
          "y0": 0,
          "y1": 1,
          "yref": "y domain"
         },
         {
          "line": {
           "color": "blue",
           "dash": "dash"
          },
          "type": "line",
          "x0": "2023-03-14",
          "x1": "2023-03-14",
          "xref": "x",
          "y0": 0,
          "y1": 1,
          "yref": "y domain"
         }
        ],
        "template": {
         "data": {
          "bar": [
           {
            "error_x": {
             "color": "#2a3f5f"
            },
            "error_y": {
             "color": "#2a3f5f"
            },
            "marker": {
             "line": {
              "color": "#E5ECF6",
              "width": 0.5
             },
             "pattern": {
              "fillmode": "overlay",
              "size": 10,
              "solidity": 0.2
             }
            },
            "type": "bar"
           }
          ],
          "barpolar": [
           {
            "marker": {
             "line": {
              "color": "#E5ECF6",
              "width": 0.5
             },
             "pattern": {
              "fillmode": "overlay",
              "size": 10,
              "solidity": 0.2
             }
            },
            "type": "barpolar"
           }
          ],
          "carpet": [
           {
            "aaxis": {
             "endlinecolor": "#2a3f5f",
             "gridcolor": "white",
             "linecolor": "white",
             "minorgridcolor": "white",
             "startlinecolor": "#2a3f5f"
            },
            "baxis": {
             "endlinecolor": "#2a3f5f",
             "gridcolor": "white",
             "linecolor": "white",
             "minorgridcolor": "white",
             "startlinecolor": "#2a3f5f"
            },
            "type": "carpet"
           }
          ],
          "choropleth": [
           {
            "colorbar": {
             "outlinewidth": 0,
             "ticks": ""
            },
            "type": "choropleth"
           }
          ],
          "contour": [
           {
            "colorbar": {
             "outlinewidth": 0,
             "ticks": ""
            },
            "colorscale": [
             [
              0,
              "#0d0887"
             ],
             [
              0.1111111111111111,
              "#46039f"
             ],
             [
              0.2222222222222222,
              "#7201a8"
             ],
             [
              0.3333333333333333,
              "#9c179e"
             ],
             [
              0.4444444444444444,
              "#bd3786"
             ],
             [
              0.5555555555555556,
              "#d8576b"
             ],
             [
              0.6666666666666666,
              "#ed7953"
             ],
             [
              0.7777777777777778,
              "#fb9f3a"
             ],
             [
              0.8888888888888888,
              "#fdca26"
             ],
             [
              1,
              "#f0f921"
             ]
            ],
            "type": "contour"
           }
          ],
          "contourcarpet": [
           {
            "colorbar": {
             "outlinewidth": 0,
             "ticks": ""
            },
            "type": "contourcarpet"
           }
          ],
          "heatmap": [
           {
            "colorbar": {
             "outlinewidth": 0,
             "ticks": ""
            },
            "colorscale": [
             [
              0,
              "#0d0887"
             ],
             [
              0.1111111111111111,
              "#46039f"
             ],
             [
              0.2222222222222222,
              "#7201a8"
             ],
             [
              0.3333333333333333,
              "#9c179e"
             ],
             [
              0.4444444444444444,
              "#bd3786"
             ],
             [
              0.5555555555555556,
              "#d8576b"
             ],
             [
              0.6666666666666666,
              "#ed7953"
             ],
             [
              0.7777777777777778,
              "#fb9f3a"
             ],
             [
              0.8888888888888888,
              "#fdca26"
             ],
             [
              1,
              "#f0f921"
             ]
            ],
            "type": "heatmap"
           }
          ],
          "heatmapgl": [
           {
            "colorbar": {
             "outlinewidth": 0,
             "ticks": ""
            },
            "colorscale": [
             [
              0,
              "#0d0887"
             ],
             [
              0.1111111111111111,
              "#46039f"
             ],
             [
              0.2222222222222222,
              "#7201a8"
             ],
             [
              0.3333333333333333,
              "#9c179e"
             ],
             [
              0.4444444444444444,
              "#bd3786"
             ],
             [
              0.5555555555555556,
              "#d8576b"
             ],
             [
              0.6666666666666666,
              "#ed7953"
             ],
             [
              0.7777777777777778,
              "#fb9f3a"
             ],
             [
              0.8888888888888888,
              "#fdca26"
             ],
             [
              1,
              "#f0f921"
             ]
            ],
            "type": "heatmapgl"
           }
          ],
          "histogram": [
           {
            "marker": {
             "pattern": {
              "fillmode": "overlay",
              "size": 10,
              "solidity": 0.2
             }
            },
            "type": "histogram"
           }
          ],
          "histogram2d": [
           {
            "colorbar": {
             "outlinewidth": 0,
             "ticks": ""
            },
            "colorscale": [
             [
              0,
              "#0d0887"
             ],
             [
              0.1111111111111111,
              "#46039f"
             ],
             [
              0.2222222222222222,
              "#7201a8"
             ],
             [
              0.3333333333333333,
              "#9c179e"
             ],
             [
              0.4444444444444444,
              "#bd3786"
             ],
             [
              0.5555555555555556,
              "#d8576b"
             ],
             [
              0.6666666666666666,
              "#ed7953"
             ],
             [
              0.7777777777777778,
              "#fb9f3a"
             ],
             [
              0.8888888888888888,
              "#fdca26"
             ],
             [
              1,
              "#f0f921"
             ]
            ],
            "type": "histogram2d"
           }
          ],
          "histogram2dcontour": [
           {
            "colorbar": {
             "outlinewidth": 0,
             "ticks": ""
            },
            "colorscale": [
             [
              0,
              "#0d0887"
             ],
             [
              0.1111111111111111,
              "#46039f"
             ],
             [
              0.2222222222222222,
              "#7201a8"
             ],
             [
              0.3333333333333333,
              "#9c179e"
             ],
             [
              0.4444444444444444,
              "#bd3786"
             ],
             [
              0.5555555555555556,
              "#d8576b"
             ],
             [
              0.6666666666666666,
              "#ed7953"
             ],
             [
              0.7777777777777778,
              "#fb9f3a"
             ],
             [
              0.8888888888888888,
              "#fdca26"
             ],
             [
              1,
              "#f0f921"
             ]
            ],
            "type": "histogram2dcontour"
           }
          ],
          "mesh3d": [
           {
            "colorbar": {
             "outlinewidth": 0,
             "ticks": ""
            },
            "type": "mesh3d"
           }
          ],
          "parcoords": [
           {
            "line": {
             "colorbar": {
              "outlinewidth": 0,
              "ticks": ""
             }
            },
            "type": "parcoords"
           }
          ],
          "pie": [
           {
            "automargin": true,
            "type": "pie"
           }
          ],
          "scatter": [
           {
            "fillpattern": {
             "fillmode": "overlay",
             "size": 10,
             "solidity": 0.2
            },
            "type": "scatter"
           }
          ],
          "scatter3d": [
           {
            "line": {
             "colorbar": {
              "outlinewidth": 0,
              "ticks": ""
             }
            },
            "marker": {
             "colorbar": {
              "outlinewidth": 0,
              "ticks": ""
             }
            },
            "type": "scatter3d"
           }
          ],
          "scattercarpet": [
           {
            "marker": {
             "colorbar": {
              "outlinewidth": 0,
              "ticks": ""
             }
            },
            "type": "scattercarpet"
           }
          ],
          "scattergeo": [
           {
            "marker": {
             "colorbar": {
              "outlinewidth": 0,
              "ticks": ""
             }
            },
            "type": "scattergeo"
           }
          ],
          "scattergl": [
           {
            "marker": {
             "colorbar": {
              "outlinewidth": 0,
              "ticks": ""
             }
            },
            "type": "scattergl"
           }
          ],
          "scattermapbox": [
           {
            "marker": {
             "colorbar": {
              "outlinewidth": 0,
              "ticks": ""
             }
            },
            "type": "scattermapbox"
           }
          ],
          "scatterpolar": [
           {
            "marker": {
             "colorbar": {
              "outlinewidth": 0,
              "ticks": ""
             }
            },
            "type": "scatterpolar"
           }
          ],
          "scatterpolargl": [
           {
            "marker": {
             "colorbar": {
              "outlinewidth": 0,
              "ticks": ""
             }
            },
            "type": "scatterpolargl"
           }
          ],
          "scatterternary": [
           {
            "marker": {
             "colorbar": {
              "outlinewidth": 0,
              "ticks": ""
             }
            },
            "type": "scatterternary"
           }
          ],
          "surface": [
           {
            "colorbar": {
             "outlinewidth": 0,
             "ticks": ""
            },
            "colorscale": [
             [
              0,
              "#0d0887"
             ],
             [
              0.1111111111111111,
              "#46039f"
             ],
             [
              0.2222222222222222,
              "#7201a8"
             ],
             [
              0.3333333333333333,
              "#9c179e"
             ],
             [
              0.4444444444444444,
              "#bd3786"
             ],
             [
              0.5555555555555556,
              "#d8576b"
             ],
             [
              0.6666666666666666,
              "#ed7953"
             ],
             [
              0.7777777777777778,
              "#fb9f3a"
             ],
             [
              0.8888888888888888,
              "#fdca26"
             ],
             [
              1,
              "#f0f921"
             ]
            ],
            "type": "surface"
           }
          ],
          "table": [
           {
            "cells": {
             "fill": {
              "color": "#EBF0F8"
             },
             "line": {
              "color": "white"
             }
            },
            "header": {
             "fill": {
              "color": "#C8D4E3"
             },
             "line": {
              "color": "white"
             }
            },
            "type": "table"
           }
          ]
         },
         "layout": {
          "annotationdefaults": {
           "arrowcolor": "#2a3f5f",
           "arrowhead": 0,
           "arrowwidth": 1
          },
          "autotypenumbers": "strict",
          "coloraxis": {
           "colorbar": {
            "outlinewidth": 0,
            "ticks": ""
           }
          },
          "colorscale": {
           "diverging": [
            [
             0,
             "#8e0152"
            ],
            [
             0.1,
             "#c51b7d"
            ],
            [
             0.2,
             "#de77ae"
            ],
            [
             0.3,
             "#f1b6da"
            ],
            [
             0.4,
             "#fde0ef"
            ],
            [
             0.5,
             "#f7f7f7"
            ],
            [
             0.6,
             "#e6f5d0"
            ],
            [
             0.7,
             "#b8e186"
            ],
            [
             0.8,
             "#7fbc41"
            ],
            [
             0.9,
             "#4d9221"
            ],
            [
             1,
             "#276419"
            ]
           ],
           "sequential": [
            [
             0,
             "#0d0887"
            ],
            [
             0.1111111111111111,
             "#46039f"
            ],
            [
             0.2222222222222222,
             "#7201a8"
            ],
            [
             0.3333333333333333,
             "#9c179e"
            ],
            [
             0.4444444444444444,
             "#bd3786"
            ],
            [
             0.5555555555555556,
             "#d8576b"
            ],
            [
             0.6666666666666666,
             "#ed7953"
            ],
            [
             0.7777777777777778,
             "#fb9f3a"
            ],
            [
             0.8888888888888888,
             "#fdca26"
            ],
            [
             1,
             "#f0f921"
            ]
           ],
           "sequentialminus": [
            [
             0,
             "#0d0887"
            ],
            [
             0.1111111111111111,
             "#46039f"
            ],
            [
             0.2222222222222222,
             "#7201a8"
            ],
            [
             0.3333333333333333,
             "#9c179e"
            ],
            [
             0.4444444444444444,
             "#bd3786"
            ],
            [
             0.5555555555555556,
             "#d8576b"
            ],
            [
             0.6666666666666666,
             "#ed7953"
            ],
            [
             0.7777777777777778,
             "#fb9f3a"
            ],
            [
             0.8888888888888888,
             "#fdca26"
            ],
            [
             1,
             "#f0f921"
            ]
           ]
          },
          "colorway": [
           "#636efa",
           "#EF553B",
           "#00cc96",
           "#ab63fa",
           "#FFA15A",
           "#19d3f3",
           "#FF6692",
           "#B6E880",
           "#FF97FF",
           "#FECB52"
          ],
          "font": {
           "color": "#2a3f5f"
          },
          "geo": {
           "bgcolor": "white",
           "lakecolor": "white",
           "landcolor": "#E5ECF6",
           "showlakes": true,
           "showland": true,
           "subunitcolor": "white"
          },
          "hoverlabel": {
           "align": "left"
          },
          "hovermode": "closest",
          "mapbox": {
           "style": "light"
          },
          "paper_bgcolor": "white",
          "plot_bgcolor": "#E5ECF6",
          "polar": {
           "angularaxis": {
            "gridcolor": "white",
            "linecolor": "white",
            "ticks": ""
           },
           "bgcolor": "#E5ECF6",
           "radialaxis": {
            "gridcolor": "white",
            "linecolor": "white",
            "ticks": ""
           }
          },
          "scene": {
           "xaxis": {
            "backgroundcolor": "#E5ECF6",
            "gridcolor": "white",
            "gridwidth": 2,
            "linecolor": "white",
            "showbackground": true,
            "ticks": "",
            "zerolinecolor": "white"
           },
           "yaxis": {
            "backgroundcolor": "#E5ECF6",
            "gridcolor": "white",
            "gridwidth": 2,
            "linecolor": "white",
            "showbackground": true,
            "ticks": "",
            "zerolinecolor": "white"
           },
           "zaxis": {
            "backgroundcolor": "#E5ECF6",
            "gridcolor": "white",
            "gridwidth": 2,
            "linecolor": "white",
            "showbackground": true,
            "ticks": "",
            "zerolinecolor": "white"
           }
          },
          "shapedefaults": {
           "line": {
            "color": "#2a3f5f"
           }
          },
          "ternary": {
           "aaxis": {
            "gridcolor": "white",
            "linecolor": "white",
            "ticks": ""
           },
           "baxis": {
            "gridcolor": "white",
            "linecolor": "white",
            "ticks": ""
           },
           "bgcolor": "#E5ECF6",
           "caxis": {
            "gridcolor": "white",
            "linecolor": "white",
            "ticks": ""
           }
          },
          "title": {
           "x": 0.05
          },
          "xaxis": {
           "automargin": true,
           "gridcolor": "white",
           "linecolor": "white",
           "ticks": "",
           "title": {
            "standoff": 15
           },
           "zerolinecolor": "white",
           "zerolinewidth": 2
          },
          "yaxis": {
           "automargin": true,
           "gridcolor": "white",
           "linecolor": "white",
           "ticks": "",
           "title": {
            "standoff": 15
           },
           "zerolinecolor": "white",
           "zerolinewidth": 2
          }
         }
        },
        "title": {
         "text": "AI Written Detection in Papers with threshold 0.82"
        },
        "xaxis": {
         "anchor": "y",
         "domain": [
          0,
          1
         ],
         "title": {
          "text": "Date"
         }
        },
        "yaxis": {
         "anchor": "x",
         "domain": [
          0,
          1
         ],
         "title": {
          "text": "AI Written Detection"
         }
        }
       }
      }
     },
     "metadata": {},
     "output_type": "display_data"
    }
   ],
   "source": [
    "# num_thresholds = len(np.arange(0.78, 0.86, 0.01))\n",
    "# num_rows = (num_thresholds + 2) // 3  # Round up division by 3\n",
    "\n",
    "# fig, axes = plt.subplots(num_rows, 3, figsize=(20, 16 * num_rows))\n",
    "# axes = axes.flatten()\n",
    "\n",
    "# for i, papers_threshold in enumerate(np.arange(0.78, 0.86, 0.01)):\n",
    "papers_threshold = 0.82\n",
    "papers_ai_detection_df = pd.read_csv(\"papers/cl_cv_papers_ai_written.csv\")\n",
    "\n",
    "papers_ai_detection_df[\"ai_written\"] = (\n",
    "    papers_ai_detection_df[\"ai_written\"] < papers_threshold\n",
    ")\n",
    "\n",
    "papers_ai_detection_df = papers_ai_detection_df[papers_ai_detection_df[\"year\"] >= 2018]\n",
    "papers_ai_detection_df = (\n",
    "    papers_ai_detection_df.groupby([\"year\", \"month\"])[\"ai_written\"].mean().reset_index()\n",
    ")\n",
    "\n",
    "papers_ai_detection_df[\"date\"] = pd.to_datetime(\n",
    "    papers_ai_detection_df[\"year\"].astype(str)\n",
    "    + \"-\"\n",
    "    + papers_ai_detection_df[\"month\"].astype(str)\n",
    ")\n",
    "\n",
    "papers_ai_detection_df[\"ai_written\"] = (\n",
    "    papers_ai_detection_df[\"ai_written\"].rolling(window=5).mean()\n",
    ")\n",
    "\n",
    "fig_px = (\n",
    "    px.line(\n",
    "        papers_ai_detection_df,\n",
    "        x=\"date\",\n",
    "        y=\"ai_written\",\n",
    "        title=f\"AI Written Detection in Papers with threshold {papers_threshold:.2f}\",\n",
    "        labels={\"date\": \"Date\", \"ai_written\": \"AI Written Detection\"},\n",
    "    )\n",
    "    .add_vline(\n",
    "        x=\"2018-10-01\",\n",
    "        line_dash=\"dash\",\n",
    "        line_color=\"green\",\n",
    "    )\n",
    "    .add_vline(\n",
    "        x=\"2019-02-01\",\n",
    "        line_dash=\"dash\",\n",
    "        line_color=\"orange\",\n",
    "    )\n",
    "    .add_vline(\n",
    "        x=\"2022-11-01\",\n",
    "        line_dash=\"dash\",\n",
    "        line_color=\"red\",\n",
    "    )\n",
    "    .add_vline(\n",
    "        x=\"2023-03-14\",\n",
    "        line_dash=\"dash\",\n",
    "        line_color=\"blue\",\n",
    "    )\n",
    "    .add_annotation(\n",
    "        x=\"2018-10-01\",\n",
    "        y=-0.1,\n",
    "        text=\"BERT Release\",\n",
    "        showarrow=False,\n",
    "        xanchor=\"center\",\n",
    "        yanchor=\"top\",\n",
    "        yref=\"paper\",\n",
    "    )\n",
    "    .add_annotation(\n",
    "        x=\"2019-02-01\",\n",
    "        y=-0.2,\n",
    "        text=\"GPT-2 Release\",\n",
    "        showarrow=False,\n",
    "        xanchor=\"center\",\n",
    "        yanchor=\"top\",\n",
    "        yref=\"paper\",\n",
    "    )\n",
    "    .add_annotation(\n",
    "        x=\"2022-11-01\",\n",
    "        y=-0.1,\n",
    "        text=\"ChatGPT Release\",\n",
    "        showarrow=False,\n",
    "        xanchor=\"center\",\n",
    "        yanchor=\"top\",\n",
    "        yref=\"paper\",\n",
    "    )\n",
    "    .add_annotation(\n",
    "        x=\"2023-03-14\",\n",
    "        y=-0.2,\n",
    "        text=\"GPT-4 Release\",\n",
    "        showarrow=False,\n",
    "        xanchor=\"center\",\n",
    "        yanchor=\"top\",\n",
    "        yref=\"paper\",\n",
    "    )\n",
    ")\n",
    "fig_px.show()\n",
    "\n",
    "#     # Convert plotly figure to matplotlib and place in subplot\n",
    "#     fig_px.write_image(f\"temp_fig_{i}.png\")\n",
    "#     img = plt.imread(f\"temp_fig_{i}.png\")\n",
    "#     axes[i].imshow(img)\n",
    "#     axes[i].axis(\"off\")\n",
    "#     os.remove(f\"temp_fig_{i}.png\")\n",
    "\n",
    "# # Hide any unused subplots\n",
    "# for j in range(i + 1, len(axes)):\n",
    "#     axes[j].axis(\"off\")\n",
    "\n",
    "# plt.tight_layout()\n",
    "# plt.show()"
   ]
  },
  {
   "cell_type": "code",
   "execution_count": 50,
   "metadata": {},
   "outputs": [
    {
     "data": {
      "application/vnd.plotly.v1+json": {
       "config": {
        "plotlyServerURL": "https://plot.ly"
       },
       "data": [
        {
         "hovertemplate": "Date=%{x}<br>AI Written Detection=%{y}<extra></extra>",
         "legendgroup": "",
         "line": {
          "color": "#636efa",
          "dash": "solid"
         },
         "marker": {
          "symbol": "circle"
         },
         "mode": "lines",
         "name": "",
         "orientation": "v",
         "showlegend": false,
         "type": "scatter",
         "x": [
          "2018-01-01T00:00:00",
          "2018-02-01T00:00:00",
          "2018-03-01T00:00:00",
          "2018-04-01T00:00:00",
          "2018-05-01T00:00:00",
          "2018-06-01T00:00:00",
          "2018-07-01T00:00:00",
          "2018-08-01T00:00:00",
          "2018-09-01T00:00:00",
          "2018-10-01T00:00:00",
          "2018-11-01T00:00:00",
          "2018-12-01T00:00:00",
          "2019-01-01T00:00:00",
          "2019-02-01T00:00:00",
          "2019-03-01T00:00:00",
          "2019-04-01T00:00:00",
          "2019-05-01T00:00:00",
          "2019-06-01T00:00:00",
          "2019-07-01T00:00:00",
          "2019-08-01T00:00:00",
          "2019-09-01T00:00:00",
          "2019-10-01T00:00:00",
          "2019-11-01T00:00:00",
          "2019-12-01T00:00:00",
          "2020-01-01T00:00:00",
          "2020-02-01T00:00:00",
          "2020-03-01T00:00:00",
          "2020-04-01T00:00:00",
          "2020-05-01T00:00:00",
          "2020-06-01T00:00:00",
          "2020-07-01T00:00:00",
          "2020-08-01T00:00:00",
          "2020-09-01T00:00:00",
          "2020-10-01T00:00:00",
          "2020-11-01T00:00:00",
          "2020-12-01T00:00:00",
          "2021-01-01T00:00:00",
          "2021-02-01T00:00:00",
          "2021-03-01T00:00:00",
          "2021-04-01T00:00:00",
          "2021-05-01T00:00:00",
          "2021-06-01T00:00:00",
          "2021-07-01T00:00:00",
          "2021-08-01T00:00:00",
          "2021-09-01T00:00:00",
          "2021-10-01T00:00:00",
          "2021-11-01T00:00:00",
          "2021-12-01T00:00:00",
          "2022-01-01T00:00:00",
          "2022-02-01T00:00:00",
          "2022-03-01T00:00:00",
          "2022-04-01T00:00:00",
          "2022-05-01T00:00:00",
          "2022-06-01T00:00:00",
          "2022-07-01T00:00:00",
          "2022-08-01T00:00:00",
          "2022-09-01T00:00:00",
          "2022-10-01T00:00:00",
          "2022-11-01T00:00:00",
          "2022-12-01T00:00:00",
          "2023-01-01T00:00:00",
          "2023-02-01T00:00:00",
          "2023-03-01T00:00:00",
          "2023-04-01T00:00:00",
          "2023-05-01T00:00:00",
          "2023-06-01T00:00:00",
          "2023-07-01T00:00:00",
          "2023-08-01T00:00:00",
          "2023-09-01T00:00:00",
          "2023-10-01T00:00:00",
          "2023-11-01T00:00:00"
         ],
         "xaxis": "x",
         "y": [
          null,
          null,
          null,
          null,
          0.00043010752688172043,
          0.00043010752688172043,
          0.0008836222661107455,
          0.0013643914968799764,
          0.0009342839699982557,
          0.0009342839699982557,
          0.0009342839699982557,
          0.0004807692307692308,
          0,
          0.0004608294930875576,
          0.0012821847292271882,
          0.002088636342130414,
          0.002088636342130414,
          0.002088636342130414,
          0.0024843378982933916,
          0.0025363451075686083,
          0.003017447142734052,
          0.003017447142734052,
          0.003017447142734052,
          0.0037577224807090652,
          0.002884360035294218,
          0.0015968063872255488,
          0.0022840916105932463,
          0.0025706245618826442,
          0.0012345743676166784,
          0.0014852009340327185,
          0.0014852009340327185,
          0.0007979157106650208,
          0.0005113827593756226,
          0.00044074063485710434,
          0.0001901140684410643,
          0.0001901140684410643,
          0.0003911190935666924,
          0.0003911190935666924,
          0.00020100502512562782,
          0.00020100502512562782,
          0.0003534440495158717,
          0.00028639749726365276,
          0.00028639749726365276,
          0.0006599965009996429,
          0.0007804784287104862,
          0.0010859672806797155,
          0.0011913864259990054,
          0.0016639203893776232,
          0.001649818090255174,
          0.0017906033082007646,
          0.0017794364147154535,
          0.0019935735357517795,
          0.0015210395723731617,
          0.0011615428677596205,
          0.0011528009746284394,
          0.0009493489941873672,
          0.0004958342549583422,
          0.0007325206454908866,
          0.0009714692715362868,
          0.0009895800135983144,
          0.0007462710111652244,
          0.001297995149096259,
          0.001753350281055064,
          0.002589670472213965,
          0.002319034477626685,
          0.0029694409816917256,
          0.003594187431995985,
          0.004817854721765172,
          0.004498729571857657,
          0.006063266729615153,
          0.007625249606081086
         ],
         "yaxis": "y"
        }
       ],
       "layout": {
        "annotations": [
         {
          "showarrow": false,
          "text": "BERT Release",
          "x": "2018-10-01",
          "xanchor": "center",
          "y": -0.1,
          "yanchor": "top",
          "yref": "paper"
         },
         {
          "showarrow": false,
          "text": "GPT-2 Release",
          "x": "2019-02-01",
          "xanchor": "center",
          "y": -0.2,
          "yanchor": "top",
          "yref": "paper"
         },
         {
          "showarrow": false,
          "text": "ChatGPT Release",
          "x": "2022-11-01",
          "xanchor": "center",
          "y": -0.1,
          "yanchor": "top",
          "yref": "paper"
         },
         {
          "showarrow": false,
          "text": "GPT-4 Release",
          "x": "2023-03-14",
          "xanchor": "center",
          "y": -0.2,
          "yanchor": "top",
          "yref": "paper"
         }
        ],
        "legend": {
         "tracegroupgap": 0
        },
        "shapes": [
         {
          "line": {
           "color": "green",
           "dash": "dash"
          },
          "type": "line",
          "x0": "2018-10-01",
          "x1": "2018-10-01",
          "xref": "x",
          "y0": 0,
          "y1": 1,
          "yref": "y domain"
         },
         {
          "line": {
           "color": "orange",
           "dash": "dash"
          },
          "type": "line",
          "x0": "2019-02-01",
          "x1": "2019-02-01",
          "xref": "x",
          "y0": 0,
          "y1": 1,
          "yref": "y domain"
         },
         {
          "line": {
           "color": "red",
           "dash": "dash"
          },
          "type": "line",
          "x0": "2022-11-01",
          "x1": "2022-11-01",
          "xref": "x",
          "y0": 0,
          "y1": 1,
          "yref": "y domain"
         },
         {
          "line": {
           "color": "blue",
           "dash": "dash"
          },
          "type": "line",
          "x0": "2023-03-14",
          "x1": "2023-03-14",
          "xref": "x",
          "y0": 0,
          "y1": 1,
          "yref": "y domain"
         }
        ],
        "template": {
         "data": {
          "bar": [
           {
            "error_x": {
             "color": "#2a3f5f"
            },
            "error_y": {
             "color": "#2a3f5f"
            },
            "marker": {
             "line": {
              "color": "#E5ECF6",
              "width": 0.5
             },
             "pattern": {
              "fillmode": "overlay",
              "size": 10,
              "solidity": 0.2
             }
            },
            "type": "bar"
           }
          ],
          "barpolar": [
           {
            "marker": {
             "line": {
              "color": "#E5ECF6",
              "width": 0.5
             },
             "pattern": {
              "fillmode": "overlay",
              "size": 10,
              "solidity": 0.2
             }
            },
            "type": "barpolar"
           }
          ],
          "carpet": [
           {
            "aaxis": {
             "endlinecolor": "#2a3f5f",
             "gridcolor": "white",
             "linecolor": "white",
             "minorgridcolor": "white",
             "startlinecolor": "#2a3f5f"
            },
            "baxis": {
             "endlinecolor": "#2a3f5f",
             "gridcolor": "white",
             "linecolor": "white",
             "minorgridcolor": "white",
             "startlinecolor": "#2a3f5f"
            },
            "type": "carpet"
           }
          ],
          "choropleth": [
           {
            "colorbar": {
             "outlinewidth": 0,
             "ticks": ""
            },
            "type": "choropleth"
           }
          ],
          "contour": [
           {
            "colorbar": {
             "outlinewidth": 0,
             "ticks": ""
            },
            "colorscale": [
             [
              0,
              "#0d0887"
             ],
             [
              0.1111111111111111,
              "#46039f"
             ],
             [
              0.2222222222222222,
              "#7201a8"
             ],
             [
              0.3333333333333333,
              "#9c179e"
             ],
             [
              0.4444444444444444,
              "#bd3786"
             ],
             [
              0.5555555555555556,
              "#d8576b"
             ],
             [
              0.6666666666666666,
              "#ed7953"
             ],
             [
              0.7777777777777778,
              "#fb9f3a"
             ],
             [
              0.8888888888888888,
              "#fdca26"
             ],
             [
              1,
              "#f0f921"
             ]
            ],
            "type": "contour"
           }
          ],
          "contourcarpet": [
           {
            "colorbar": {
             "outlinewidth": 0,
             "ticks": ""
            },
            "type": "contourcarpet"
           }
          ],
          "heatmap": [
           {
            "colorbar": {
             "outlinewidth": 0,
             "ticks": ""
            },
            "colorscale": [
             [
              0,
              "#0d0887"
             ],
             [
              0.1111111111111111,
              "#46039f"
             ],
             [
              0.2222222222222222,
              "#7201a8"
             ],
             [
              0.3333333333333333,
              "#9c179e"
             ],
             [
              0.4444444444444444,
              "#bd3786"
             ],
             [
              0.5555555555555556,
              "#d8576b"
             ],
             [
              0.6666666666666666,
              "#ed7953"
             ],
             [
              0.7777777777777778,
              "#fb9f3a"
             ],
             [
              0.8888888888888888,
              "#fdca26"
             ],
             [
              1,
              "#f0f921"
             ]
            ],
            "type": "heatmap"
           }
          ],
          "heatmapgl": [
           {
            "colorbar": {
             "outlinewidth": 0,
             "ticks": ""
            },
            "colorscale": [
             [
              0,
              "#0d0887"
             ],
             [
              0.1111111111111111,
              "#46039f"
             ],
             [
              0.2222222222222222,
              "#7201a8"
             ],
             [
              0.3333333333333333,
              "#9c179e"
             ],
             [
              0.4444444444444444,
              "#bd3786"
             ],
             [
              0.5555555555555556,
              "#d8576b"
             ],
             [
              0.6666666666666666,
              "#ed7953"
             ],
             [
              0.7777777777777778,
              "#fb9f3a"
             ],
             [
              0.8888888888888888,
              "#fdca26"
             ],
             [
              1,
              "#f0f921"
             ]
            ],
            "type": "heatmapgl"
           }
          ],
          "histogram": [
           {
            "marker": {
             "pattern": {
              "fillmode": "overlay",
              "size": 10,
              "solidity": 0.2
             }
            },
            "type": "histogram"
           }
          ],
          "histogram2d": [
           {
            "colorbar": {
             "outlinewidth": 0,
             "ticks": ""
            },
            "colorscale": [
             [
              0,
              "#0d0887"
             ],
             [
              0.1111111111111111,
              "#46039f"
             ],
             [
              0.2222222222222222,
              "#7201a8"
             ],
             [
              0.3333333333333333,
              "#9c179e"
             ],
             [
              0.4444444444444444,
              "#bd3786"
             ],
             [
              0.5555555555555556,
              "#d8576b"
             ],
             [
              0.6666666666666666,
              "#ed7953"
             ],
             [
              0.7777777777777778,
              "#fb9f3a"
             ],
             [
              0.8888888888888888,
              "#fdca26"
             ],
             [
              1,
              "#f0f921"
             ]
            ],
            "type": "histogram2d"
           }
          ],
          "histogram2dcontour": [
           {
            "colorbar": {
             "outlinewidth": 0,
             "ticks": ""
            },
            "colorscale": [
             [
              0,
              "#0d0887"
             ],
             [
              0.1111111111111111,
              "#46039f"
             ],
             [
              0.2222222222222222,
              "#7201a8"
             ],
             [
              0.3333333333333333,
              "#9c179e"
             ],
             [
              0.4444444444444444,
              "#bd3786"
             ],
             [
              0.5555555555555556,
              "#d8576b"
             ],
             [
              0.6666666666666666,
              "#ed7953"
             ],
             [
              0.7777777777777778,
              "#fb9f3a"
             ],
             [
              0.8888888888888888,
              "#fdca26"
             ],
             [
              1,
              "#f0f921"
             ]
            ],
            "type": "histogram2dcontour"
           }
          ],
          "mesh3d": [
           {
            "colorbar": {
             "outlinewidth": 0,
             "ticks": ""
            },
            "type": "mesh3d"
           }
          ],
          "parcoords": [
           {
            "line": {
             "colorbar": {
              "outlinewidth": 0,
              "ticks": ""
             }
            },
            "type": "parcoords"
           }
          ],
          "pie": [
           {
            "automargin": true,
            "type": "pie"
           }
          ],
          "scatter": [
           {
            "fillpattern": {
             "fillmode": "overlay",
             "size": 10,
             "solidity": 0.2
            },
            "type": "scatter"
           }
          ],
          "scatter3d": [
           {
            "line": {
             "colorbar": {
              "outlinewidth": 0,
              "ticks": ""
             }
            },
            "marker": {
             "colorbar": {
              "outlinewidth": 0,
              "ticks": ""
             }
            },
            "type": "scatter3d"
           }
          ],
          "scattercarpet": [
           {
            "marker": {
             "colorbar": {
              "outlinewidth": 0,
              "ticks": ""
             }
            },
            "type": "scattercarpet"
           }
          ],
          "scattergeo": [
           {
            "marker": {
             "colorbar": {
              "outlinewidth": 0,
              "ticks": ""
             }
            },
            "type": "scattergeo"
           }
          ],
          "scattergl": [
           {
            "marker": {
             "colorbar": {
              "outlinewidth": 0,
              "ticks": ""
             }
            },
            "type": "scattergl"
           }
          ],
          "scattermapbox": [
           {
            "marker": {
             "colorbar": {
              "outlinewidth": 0,
              "ticks": ""
             }
            },
            "type": "scattermapbox"
           }
          ],
          "scatterpolar": [
           {
            "marker": {
             "colorbar": {
              "outlinewidth": 0,
              "ticks": ""
             }
            },
            "type": "scatterpolar"
           }
          ],
          "scatterpolargl": [
           {
            "marker": {
             "colorbar": {
              "outlinewidth": 0,
              "ticks": ""
             }
            },
            "type": "scatterpolargl"
           }
          ],
          "scatterternary": [
           {
            "marker": {
             "colorbar": {
              "outlinewidth": 0,
              "ticks": ""
             }
            },
            "type": "scatterternary"
           }
          ],
          "surface": [
           {
            "colorbar": {
             "outlinewidth": 0,
             "ticks": ""
            },
            "colorscale": [
             [
              0,
              "#0d0887"
             ],
             [
              0.1111111111111111,
              "#46039f"
             ],
             [
              0.2222222222222222,
              "#7201a8"
             ],
             [
              0.3333333333333333,
              "#9c179e"
             ],
             [
              0.4444444444444444,
              "#bd3786"
             ],
             [
              0.5555555555555556,
              "#d8576b"
             ],
             [
              0.6666666666666666,
              "#ed7953"
             ],
             [
              0.7777777777777778,
              "#fb9f3a"
             ],
             [
              0.8888888888888888,
              "#fdca26"
             ],
             [
              1,
              "#f0f921"
             ]
            ],
            "type": "surface"
           }
          ],
          "table": [
           {
            "cells": {
             "fill": {
              "color": "#EBF0F8"
             },
             "line": {
              "color": "white"
             }
            },
            "header": {
             "fill": {
              "color": "#C8D4E3"
             },
             "line": {
              "color": "white"
             }
            },
            "type": "table"
           }
          ]
         },
         "layout": {
          "annotationdefaults": {
           "arrowcolor": "#2a3f5f",
           "arrowhead": 0,
           "arrowwidth": 1
          },
          "autotypenumbers": "strict",
          "coloraxis": {
           "colorbar": {
            "outlinewidth": 0,
            "ticks": ""
           }
          },
          "colorscale": {
           "diverging": [
            [
             0,
             "#8e0152"
            ],
            [
             0.1,
             "#c51b7d"
            ],
            [
             0.2,
             "#de77ae"
            ],
            [
             0.3,
             "#f1b6da"
            ],
            [
             0.4,
             "#fde0ef"
            ],
            [
             0.5,
             "#f7f7f7"
            ],
            [
             0.6,
             "#e6f5d0"
            ],
            [
             0.7,
             "#b8e186"
            ],
            [
             0.8,
             "#7fbc41"
            ],
            [
             0.9,
             "#4d9221"
            ],
            [
             1,
             "#276419"
            ]
           ],
           "sequential": [
            [
             0,
             "#0d0887"
            ],
            [
             0.1111111111111111,
             "#46039f"
            ],
            [
             0.2222222222222222,
             "#7201a8"
            ],
            [
             0.3333333333333333,
             "#9c179e"
            ],
            [
             0.4444444444444444,
             "#bd3786"
            ],
            [
             0.5555555555555556,
             "#d8576b"
            ],
            [
             0.6666666666666666,
             "#ed7953"
            ],
            [
             0.7777777777777778,
             "#fb9f3a"
            ],
            [
             0.8888888888888888,
             "#fdca26"
            ],
            [
             1,
             "#f0f921"
            ]
           ],
           "sequentialminus": [
            [
             0,
             "#0d0887"
            ],
            [
             0.1111111111111111,
             "#46039f"
            ],
            [
             0.2222222222222222,
             "#7201a8"
            ],
            [
             0.3333333333333333,
             "#9c179e"
            ],
            [
             0.4444444444444444,
             "#bd3786"
            ],
            [
             0.5555555555555556,
             "#d8576b"
            ],
            [
             0.6666666666666666,
             "#ed7953"
            ],
            [
             0.7777777777777778,
             "#fb9f3a"
            ],
            [
             0.8888888888888888,
             "#fdca26"
            ],
            [
             1,
             "#f0f921"
            ]
           ]
          },
          "colorway": [
           "#636efa",
           "#EF553B",
           "#00cc96",
           "#ab63fa",
           "#FFA15A",
           "#19d3f3",
           "#FF6692",
           "#B6E880",
           "#FF97FF",
           "#FECB52"
          ],
          "font": {
           "color": "#2a3f5f"
          },
          "geo": {
           "bgcolor": "white",
           "lakecolor": "white",
           "landcolor": "#E5ECF6",
           "showlakes": true,
           "showland": true,
           "subunitcolor": "white"
          },
          "hoverlabel": {
           "align": "left"
          },
          "hovermode": "closest",
          "mapbox": {
           "style": "light"
          },
          "paper_bgcolor": "white",
          "plot_bgcolor": "#E5ECF6",
          "polar": {
           "angularaxis": {
            "gridcolor": "white",
            "linecolor": "white",
            "ticks": ""
           },
           "bgcolor": "#E5ECF6",
           "radialaxis": {
            "gridcolor": "white",
            "linecolor": "white",
            "ticks": ""
           }
          },
          "scene": {
           "xaxis": {
            "backgroundcolor": "#E5ECF6",
            "gridcolor": "white",
            "gridwidth": 2,
            "linecolor": "white",
            "showbackground": true,
            "ticks": "",
            "zerolinecolor": "white"
           },
           "yaxis": {
            "backgroundcolor": "#E5ECF6",
            "gridcolor": "white",
            "gridwidth": 2,
            "linecolor": "white",
            "showbackground": true,
            "ticks": "",
            "zerolinecolor": "white"
           },
           "zaxis": {
            "backgroundcolor": "#E5ECF6",
            "gridcolor": "white",
            "gridwidth": 2,
            "linecolor": "white",
            "showbackground": true,
            "ticks": "",
            "zerolinecolor": "white"
           }
          },
          "shapedefaults": {
           "line": {
            "color": "#2a3f5f"
           }
          },
          "ternary": {
           "aaxis": {
            "gridcolor": "white",
            "linecolor": "white",
            "ticks": ""
           },
           "baxis": {
            "gridcolor": "white",
            "linecolor": "white",
            "ticks": ""
           },
           "bgcolor": "#E5ECF6",
           "caxis": {
            "gridcolor": "white",
            "linecolor": "white",
            "ticks": ""
           }
          },
          "title": {
           "x": 0.05
          },
          "xaxis": {
           "automargin": true,
           "gridcolor": "white",
           "linecolor": "white",
           "ticks": "",
           "title": {
            "standoff": 15
           },
           "zerolinecolor": "white",
           "zerolinewidth": 2
          },
          "yaxis": {
           "automargin": true,
           "gridcolor": "white",
           "linecolor": "white",
           "ticks": "",
           "title": {
            "standoff": 15
           },
           "zerolinecolor": "white",
           "zerolinewidth": 2
          }
         }
        },
        "title": {
         "text": "AI Written Detection in News with threshold 0.83"
        },
        "xaxis": {
         "anchor": "y",
         "domain": [
          0,
          1
         ],
         "title": {
          "text": "Date"
         }
        },
        "yaxis": {
         "anchor": "x",
         "domain": [
          0,
          1
         ],
         "title": {
          "text": "AI Written Detection"
         }
        }
       }
      }
     },
     "metadata": {},
     "output_type": "display_data"
    }
   ],
   "source": [
    "# num_thresholds = len(np.arange(0.81, 0.86, 0.01))\n",
    "# num_rows = (num_thresholds + 2) // 3  # Round up division by 3\n",
    "\n",
    "# fig, axes = plt.subplots(num_rows, 3, figsize=(20, 16 * num_rows))\n",
    "# axes = axes.flatten()\n",
    "\n",
    "# for i, news_threshold in enumerate(np.arange(0.81, 0.86, 0.01)):\n",
    "news_threshold = 0.83\n",
    "news_ai_detection_df = pd.read_csv(\"news/news_ai_written.csv\")\n",
    "\n",
    "news_ai_detection_df[\"ai_written\"] = news_ai_detection_df[\"ai_written\"] < news_threshold\n",
    "\n",
    "news_ai_detection_df = news_ai_detection_df[news_ai_detection_df[\"year\"] >= 2018]\n",
    "news_ai_detection_df = (\n",
    "    news_ai_detection_df.groupby([\"year\", \"month\"])[\"ai_written\"].mean().reset_index()\n",
    ")\n",
    "\n",
    "news_ai_detection_df[\"date\"] = pd.to_datetime(\n",
    "    news_ai_detection_df[\"year\"].astype(str)\n",
    "    + \"-\"\n",
    "    + news_ai_detection_df[\"month\"].astype(str)\n",
    ")\n",
    "\n",
    "news_ai_detection_df[\"ai_written\"] = (\n",
    "    news_ai_detection_df[\"ai_written\"].rolling(window=5).mean()\n",
    ")\n",
    "\n",
    "\n",
    "fig_px = (\n",
    "    px.line(\n",
    "        news_ai_detection_df,\n",
    "        x=\"date\",\n",
    "        y=\"ai_written\",\n",
    "        title=f\"AI Written Detection in News with threshold {news_threshold:.2f}\",\n",
    "        labels={\"date\": \"Date\", \"ai_written\": \"AI Written Detection\"},\n",
    "    )\n",
    "    .add_vline(\n",
    "        x=\"2018-10-01\",\n",
    "        line_dash=\"dash\",\n",
    "        line_color=\"green\",\n",
    "    )\n",
    "    .add_vline(\n",
    "        x=\"2019-02-01\",\n",
    "        line_dash=\"dash\",\n",
    "        line_color=\"orange\",\n",
    "    )\n",
    "    .add_vline(\n",
    "        x=\"2022-11-01\",\n",
    "        line_dash=\"dash\",\n",
    "        line_color=\"red\",\n",
    "    )\n",
    "    .add_vline(\n",
    "        x=\"2023-03-14\",\n",
    "        line_dash=\"dash\",\n",
    "        line_color=\"blue\",\n",
    "    )\n",
    "    .add_annotation(\n",
    "        x=\"2018-10-01\",\n",
    "        y=-0.1,\n",
    "        text=\"BERT Release\",\n",
    "        showarrow=False,\n",
    "        xanchor=\"center\",\n",
    "        yanchor=\"top\",\n",
    "        yref=\"paper\",\n",
    "    )\n",
    "    .add_annotation(\n",
    "        x=\"2019-02-01\",\n",
    "        y=-0.2,\n",
    "        text=\"GPT-2 Release\",\n",
    "        showarrow=False,\n",
    "        xanchor=\"center\",\n",
    "        yanchor=\"top\",\n",
    "        yref=\"paper\",\n",
    "    )\n",
    "    .add_annotation(\n",
    "        x=\"2022-11-01\",\n",
    "        y=-0.1,\n",
    "        text=\"ChatGPT Release\",\n",
    "        showarrow=False,\n",
    "        xanchor=\"center\",\n",
    "        yanchor=\"top\",\n",
    "        yref=\"paper\",\n",
    "    )\n",
    "    .add_annotation(\n",
    "        x=\"2023-03-14\",\n",
    "        y=-0.2,\n",
    "        text=\"GPT-4 Release\",\n",
    "        showarrow=False,\n",
    "        xanchor=\"center\",\n",
    "        yanchor=\"top\",\n",
    "        yref=\"paper\",\n",
    "    )\n",
    ")\n",
    "fig_px.show()"
   ]
  },
  {
   "cell_type": "code",
   "execution_count": 51,
   "metadata": {},
   "outputs": [
    {
     "data": {
      "application/vnd.plotly.v1+json": {
       "config": {
        "plotlyServerURL": "https://plot.ly"
       },
       "data": [
        {
         "hovertemplate": "Date=%{x}<br>AI Written Detection=%{y}<extra></extra>",
         "legendgroup": "",
         "line": {
          "color": "#636efa",
          "dash": "solid"
         },
         "marker": {
          "symbol": "circle"
         },
         "mode": "lines",
         "name": "",
         "orientation": "v",
         "showlegend": false,
         "type": "scatter",
         "x": [
          "2018-01-01T00:00:00",
          "2018-02-01T00:00:00",
          "2018-03-01T00:00:00",
          "2018-04-01T00:00:00",
          "2018-05-01T00:00:00",
          "2018-06-01T00:00:00",
          "2018-07-01T00:00:00",
          "2018-08-01T00:00:00",
          "2018-09-01T00:00:00",
          "2018-10-01T00:00:00",
          "2018-11-01T00:00:00",
          "2018-12-01T00:00:00",
          "2019-01-01T00:00:00",
          "2019-02-01T00:00:00",
          "2019-03-01T00:00:00",
          "2019-04-01T00:00:00",
          "2019-05-01T00:00:00",
          "2019-06-01T00:00:00",
          "2019-07-01T00:00:00",
          "2019-08-01T00:00:00",
          "2019-09-01T00:00:00",
          "2019-10-01T00:00:00",
          "2019-11-01T00:00:00",
          "2019-12-01T00:00:00",
          "2020-01-01T00:00:00",
          "2020-02-01T00:00:00",
          "2020-03-01T00:00:00",
          "2020-04-01T00:00:00",
          "2020-05-01T00:00:00",
          "2020-06-01T00:00:00",
          "2020-07-01T00:00:00",
          "2020-08-01T00:00:00",
          "2020-09-01T00:00:00",
          "2020-10-01T00:00:00",
          "2020-11-01T00:00:00",
          "2020-12-01T00:00:00",
          "2021-01-01T00:00:00",
          "2021-02-01T00:00:00",
          "2021-03-01T00:00:00",
          "2021-04-01T00:00:00",
          "2021-05-01T00:00:00",
          "2021-06-01T00:00:00",
          "2021-07-01T00:00:00",
          "2021-08-01T00:00:00",
          "2021-09-01T00:00:00",
          "2021-10-01T00:00:00",
          "2021-11-01T00:00:00",
          "2021-12-01T00:00:00",
          "2022-01-01T00:00:00",
          "2022-02-01T00:00:00",
          "2022-03-01T00:00:00",
          "2022-04-01T00:00:00",
          "2022-05-01T00:00:00",
          "2022-06-01T00:00:00",
          "2022-07-01T00:00:00",
          "2022-08-01T00:00:00",
          "2022-09-01T00:00:00",
          "2022-10-01T00:00:00",
          "2022-11-01T00:00:00",
          "2022-12-01T00:00:00",
          "2023-01-01T00:00:00",
          "2023-02-01T00:00:00",
          "2023-03-01T00:00:00",
          "2023-04-01T00:00:00",
          "2023-05-01T00:00:00",
          "2023-06-01T00:00:00",
          "2023-07-01T00:00:00",
          "2023-08-01T00:00:00",
          "2023-09-01T00:00:00",
          "2023-10-01T00:00:00",
          "2023-11-01T00:00:00",
          "2023-12-01T00:00:00",
          "2024-01-01T00:00:00",
          "2024-02-01T00:00:00",
          "2024-03-01T00:00:00",
          "2024-04-01T00:00:00",
          "2024-05-01T00:00:00",
          "2024-06-01T00:00:00",
          "2024-07-01T00:00:00",
          "2024-08-01T00:00:00",
          "2024-09-01T00:00:00",
          "2024-10-01T00:00:00",
          "2024-11-01T00:00:00"
         ],
         "xaxis": "x",
         "y": [
          null,
          null,
          null,
          null,
          0.0010548596185164744,
          0.0007248266152161443,
          0.00033112582781456954,
          0.00033112582781456954,
          0.00033112582781456954,
          0,
          0,
          0,
          0,
          0.0003937007874015748,
          0.0003937007874015748,
          0.0003937007874015748,
          0.0007527672146906232,
          0.0007527672146906232,
          0.0003590664272890485,
          0.0007322007556472575,
          0.0007322007556472575,
          0.00037313432835820896,
          0.00037313432835820896,
          0.00037313432835820896,
          0,
          0.0004347826086956522,
          0.0004347826086956522,
          0.0004347826086956522,
          0.0004347826086956522,
          0.0013316435952427375,
          0.0016705553772627525,
          0.002123044065045558,
          0.002123044065045558,
          0.003023944965946459,
          0.0026359898318166763,
          0.00239279941988085,
          0.0019403107320980443,
          0.003425459246949529,
          0.002994041914123746,
          0.003000599979232216,
          0.0024700960004523753,
          0.0024700960004523753,
          0.0015596601292790513,
          0.0010901765612039336,
          0.001993152359990217,
          0.001993152359990217,
          0.002657604187232742,
          0.002082891543554581,
          0.006577273566026491,
          0.005158833849714434,
          0.005158833849714434,
          0.00449438202247191,
          0.009025126359041489,
          0.006472491909385113,
          0.0071597771327528105,
          0.008346720752930852,
          0.008965915799370481,
          0.006425221214044682,
          0.007431876589632097,
          0.01896953024157002,
          0.021457127303806677,
          0.024409360828795617,
          0.027419311077551838,
          0.026760984465026755,
          0.015317295589721131,
          0.011642754907306433,
          0.013997252261803789,
          0.014182437446988971,
          0.017633987905369485,
          0.022784941295199992,
          0.027004350577900415,
          0.02192948848176172,
          0.02007763662990987,
          0.018200744135168406,
          0.016523859894274066,
          0.014066565149018578,
          0.026202514306244328,
          0.030661388765118792,
          0.02914040446560188,
          0.03496260469651068,
          0.043828509482737234,
          0.040677562069494744,
          0.04314176453369721
         ],
         "yaxis": "y"
        }
       ],
       "layout": {
        "annotations": [
         {
          "showarrow": false,
          "text": "BERT Release",
          "x": "2018-10-01",
          "xanchor": "center",
          "y": -0.1,
          "yanchor": "top",
          "yref": "paper"
         },
         {
          "showarrow": false,
          "text": "GPT-2 Release",
          "x": "2019-02-01",
          "xanchor": "center",
          "y": -0.2,
          "yanchor": "top",
          "yref": "paper"
         },
         {
          "showarrow": false,
          "text": "ChatGPT Release",
          "x": "2022-11-01",
          "xanchor": "center",
          "y": -0.1,
          "yanchor": "top",
          "yref": "paper"
         },
         {
          "showarrow": false,
          "text": "GPT-4 Release",
          "x": "2023-03-14",
          "xanchor": "center",
          "y": -0.2,
          "yanchor": "top",
          "yref": "paper"
         }
        ],
        "legend": {
         "tracegroupgap": 0
        },
        "shapes": [
         {
          "line": {
           "color": "green",
           "dash": "dash"
          },
          "type": "line",
          "x0": "2018-10-01",
          "x1": "2018-10-01",
          "xref": "x",
          "y0": 0,
          "y1": 1,
          "yref": "y domain"
         },
         {
          "line": {
           "color": "orange",
           "dash": "dash"
          },
          "type": "line",
          "x0": "2019-02-01",
          "x1": "2019-02-01",
          "xref": "x",
          "y0": 0,
          "y1": 1,
          "yref": "y domain"
         },
         {
          "line": {
           "color": "red",
           "dash": "dash"
          },
          "type": "line",
          "x0": "2022-11-01",
          "x1": "2022-11-01",
          "xref": "x",
          "y0": 0,
          "y1": 1,
          "yref": "y domain"
         },
         {
          "line": {
           "color": "blue",
           "dash": "dash"
          },
          "type": "line",
          "x0": "2023-03-14",
          "x1": "2023-03-14",
          "xref": "x",
          "y0": 0,
          "y1": 1,
          "yref": "y domain"
         }
        ],
        "template": {
         "data": {
          "bar": [
           {
            "error_x": {
             "color": "#2a3f5f"
            },
            "error_y": {
             "color": "#2a3f5f"
            },
            "marker": {
             "line": {
              "color": "#E5ECF6",
              "width": 0.5
             },
             "pattern": {
              "fillmode": "overlay",
              "size": 10,
              "solidity": 0.2
             }
            },
            "type": "bar"
           }
          ],
          "barpolar": [
           {
            "marker": {
             "line": {
              "color": "#E5ECF6",
              "width": 0.5
             },
             "pattern": {
              "fillmode": "overlay",
              "size": 10,
              "solidity": 0.2
             }
            },
            "type": "barpolar"
           }
          ],
          "carpet": [
           {
            "aaxis": {
             "endlinecolor": "#2a3f5f",
             "gridcolor": "white",
             "linecolor": "white",
             "minorgridcolor": "white",
             "startlinecolor": "#2a3f5f"
            },
            "baxis": {
             "endlinecolor": "#2a3f5f",
             "gridcolor": "white",
             "linecolor": "white",
             "minorgridcolor": "white",
             "startlinecolor": "#2a3f5f"
            },
            "type": "carpet"
           }
          ],
          "choropleth": [
           {
            "colorbar": {
             "outlinewidth": 0,
             "ticks": ""
            },
            "type": "choropleth"
           }
          ],
          "contour": [
           {
            "colorbar": {
             "outlinewidth": 0,
             "ticks": ""
            },
            "colorscale": [
             [
              0,
              "#0d0887"
             ],
             [
              0.1111111111111111,
              "#46039f"
             ],
             [
              0.2222222222222222,
              "#7201a8"
             ],
             [
              0.3333333333333333,
              "#9c179e"
             ],
             [
              0.4444444444444444,
              "#bd3786"
             ],
             [
              0.5555555555555556,
              "#d8576b"
             ],
             [
              0.6666666666666666,
              "#ed7953"
             ],
             [
              0.7777777777777778,
              "#fb9f3a"
             ],
             [
              0.8888888888888888,
              "#fdca26"
             ],
             [
              1,
              "#f0f921"
             ]
            ],
            "type": "contour"
           }
          ],
          "contourcarpet": [
           {
            "colorbar": {
             "outlinewidth": 0,
             "ticks": ""
            },
            "type": "contourcarpet"
           }
          ],
          "heatmap": [
           {
            "colorbar": {
             "outlinewidth": 0,
             "ticks": ""
            },
            "colorscale": [
             [
              0,
              "#0d0887"
             ],
             [
              0.1111111111111111,
              "#46039f"
             ],
             [
              0.2222222222222222,
              "#7201a8"
             ],
             [
              0.3333333333333333,
              "#9c179e"
             ],
             [
              0.4444444444444444,
              "#bd3786"
             ],
             [
              0.5555555555555556,
              "#d8576b"
             ],
             [
              0.6666666666666666,
              "#ed7953"
             ],
             [
              0.7777777777777778,
              "#fb9f3a"
             ],
             [
              0.8888888888888888,
              "#fdca26"
             ],
             [
              1,
              "#f0f921"
             ]
            ],
            "type": "heatmap"
           }
          ],
          "heatmapgl": [
           {
            "colorbar": {
             "outlinewidth": 0,
             "ticks": ""
            },
            "colorscale": [
             [
              0,
              "#0d0887"
             ],
             [
              0.1111111111111111,
              "#46039f"
             ],
             [
              0.2222222222222222,
              "#7201a8"
             ],
             [
              0.3333333333333333,
              "#9c179e"
             ],
             [
              0.4444444444444444,
              "#bd3786"
             ],
             [
              0.5555555555555556,
              "#d8576b"
             ],
             [
              0.6666666666666666,
              "#ed7953"
             ],
             [
              0.7777777777777778,
              "#fb9f3a"
             ],
             [
              0.8888888888888888,
              "#fdca26"
             ],
             [
              1,
              "#f0f921"
             ]
            ],
            "type": "heatmapgl"
           }
          ],
          "histogram": [
           {
            "marker": {
             "pattern": {
              "fillmode": "overlay",
              "size": 10,
              "solidity": 0.2
             }
            },
            "type": "histogram"
           }
          ],
          "histogram2d": [
           {
            "colorbar": {
             "outlinewidth": 0,
             "ticks": ""
            },
            "colorscale": [
             [
              0,
              "#0d0887"
             ],
             [
              0.1111111111111111,
              "#46039f"
             ],
             [
              0.2222222222222222,
              "#7201a8"
             ],
             [
              0.3333333333333333,
              "#9c179e"
             ],
             [
              0.4444444444444444,
              "#bd3786"
             ],
             [
              0.5555555555555556,
              "#d8576b"
             ],
             [
              0.6666666666666666,
              "#ed7953"
             ],
             [
              0.7777777777777778,
              "#fb9f3a"
             ],
             [
              0.8888888888888888,
              "#fdca26"
             ],
             [
              1,
              "#f0f921"
             ]
            ],
            "type": "histogram2d"
           }
          ],
          "histogram2dcontour": [
           {
            "colorbar": {
             "outlinewidth": 0,
             "ticks": ""
            },
            "colorscale": [
             [
              0,
              "#0d0887"
             ],
             [
              0.1111111111111111,
              "#46039f"
             ],
             [
              0.2222222222222222,
              "#7201a8"
             ],
             [
              0.3333333333333333,
              "#9c179e"
             ],
             [
              0.4444444444444444,
              "#bd3786"
             ],
             [
              0.5555555555555556,
              "#d8576b"
             ],
             [
              0.6666666666666666,
              "#ed7953"
             ],
             [
              0.7777777777777778,
              "#fb9f3a"
             ],
             [
              0.8888888888888888,
              "#fdca26"
             ],
             [
              1,
              "#f0f921"
             ]
            ],
            "type": "histogram2dcontour"
           }
          ],
          "mesh3d": [
           {
            "colorbar": {
             "outlinewidth": 0,
             "ticks": ""
            },
            "type": "mesh3d"
           }
          ],
          "parcoords": [
           {
            "line": {
             "colorbar": {
              "outlinewidth": 0,
              "ticks": ""
             }
            },
            "type": "parcoords"
           }
          ],
          "pie": [
           {
            "automargin": true,
            "type": "pie"
           }
          ],
          "scatter": [
           {
            "fillpattern": {
             "fillmode": "overlay",
             "size": 10,
             "solidity": 0.2
            },
            "type": "scatter"
           }
          ],
          "scatter3d": [
           {
            "line": {
             "colorbar": {
              "outlinewidth": 0,
              "ticks": ""
             }
            },
            "marker": {
             "colorbar": {
              "outlinewidth": 0,
              "ticks": ""
             }
            },
            "type": "scatter3d"
           }
          ],
          "scattercarpet": [
           {
            "marker": {
             "colorbar": {
              "outlinewidth": 0,
              "ticks": ""
             }
            },
            "type": "scattercarpet"
           }
          ],
          "scattergeo": [
           {
            "marker": {
             "colorbar": {
              "outlinewidth": 0,
              "ticks": ""
             }
            },
            "type": "scattergeo"
           }
          ],
          "scattergl": [
           {
            "marker": {
             "colorbar": {
              "outlinewidth": 0,
              "ticks": ""
             }
            },
            "type": "scattergl"
           }
          ],
          "scattermapbox": [
           {
            "marker": {
             "colorbar": {
              "outlinewidth": 0,
              "ticks": ""
             }
            },
            "type": "scattermapbox"
           }
          ],
          "scatterpolar": [
           {
            "marker": {
             "colorbar": {
              "outlinewidth": 0,
              "ticks": ""
             }
            },
            "type": "scatterpolar"
           }
          ],
          "scatterpolargl": [
           {
            "marker": {
             "colorbar": {
              "outlinewidth": 0,
              "ticks": ""
             }
            },
            "type": "scatterpolargl"
           }
          ],
          "scatterternary": [
           {
            "marker": {
             "colorbar": {
              "outlinewidth": 0,
              "ticks": ""
             }
            },
            "type": "scatterternary"
           }
          ],
          "surface": [
           {
            "colorbar": {
             "outlinewidth": 0,
             "ticks": ""
            },
            "colorscale": [
             [
              0,
              "#0d0887"
             ],
             [
              0.1111111111111111,
              "#46039f"
             ],
             [
              0.2222222222222222,
              "#7201a8"
             ],
             [
              0.3333333333333333,
              "#9c179e"
             ],
             [
              0.4444444444444444,
              "#bd3786"
             ],
             [
              0.5555555555555556,
              "#d8576b"
             ],
             [
              0.6666666666666666,
              "#ed7953"
             ],
             [
              0.7777777777777778,
              "#fb9f3a"
             ],
             [
              0.8888888888888888,
              "#fdca26"
             ],
             [
              1,
              "#f0f921"
             ]
            ],
            "type": "surface"
           }
          ],
          "table": [
           {
            "cells": {
             "fill": {
              "color": "#EBF0F8"
             },
             "line": {
              "color": "white"
             }
            },
            "header": {
             "fill": {
              "color": "#C8D4E3"
             },
             "line": {
              "color": "white"
             }
            },
            "type": "table"
           }
          ]
         },
         "layout": {
          "annotationdefaults": {
           "arrowcolor": "#2a3f5f",
           "arrowhead": 0,
           "arrowwidth": 1
          },
          "autotypenumbers": "strict",
          "coloraxis": {
           "colorbar": {
            "outlinewidth": 0,
            "ticks": ""
           }
          },
          "colorscale": {
           "diverging": [
            [
             0,
             "#8e0152"
            ],
            [
             0.1,
             "#c51b7d"
            ],
            [
             0.2,
             "#de77ae"
            ],
            [
             0.3,
             "#f1b6da"
            ],
            [
             0.4,
             "#fde0ef"
            ],
            [
             0.5,
             "#f7f7f7"
            ],
            [
             0.6,
             "#e6f5d0"
            ],
            [
             0.7,
             "#b8e186"
            ],
            [
             0.8,
             "#7fbc41"
            ],
            [
             0.9,
             "#4d9221"
            ],
            [
             1,
             "#276419"
            ]
           ],
           "sequential": [
            [
             0,
             "#0d0887"
            ],
            [
             0.1111111111111111,
             "#46039f"
            ],
            [
             0.2222222222222222,
             "#7201a8"
            ],
            [
             0.3333333333333333,
             "#9c179e"
            ],
            [
             0.4444444444444444,
             "#bd3786"
            ],
            [
             0.5555555555555556,
             "#d8576b"
            ],
            [
             0.6666666666666666,
             "#ed7953"
            ],
            [
             0.7777777777777778,
             "#fb9f3a"
            ],
            [
             0.8888888888888888,
             "#fdca26"
            ],
            [
             1,
             "#f0f921"
            ]
           ],
           "sequentialminus": [
            [
             0,
             "#0d0887"
            ],
            [
             0.1111111111111111,
             "#46039f"
            ],
            [
             0.2222222222222222,
             "#7201a8"
            ],
            [
             0.3333333333333333,
             "#9c179e"
            ],
            [
             0.4444444444444444,
             "#bd3786"
            ],
            [
             0.5555555555555556,
             "#d8576b"
            ],
            [
             0.6666666666666666,
             "#ed7953"
            ],
            [
             0.7777777777777778,
             "#fb9f3a"
            ],
            [
             0.8888888888888888,
             "#fdca26"
            ],
            [
             1,
             "#f0f921"
            ]
           ]
          },
          "colorway": [
           "#636efa",
           "#EF553B",
           "#00cc96",
           "#ab63fa",
           "#FFA15A",
           "#19d3f3",
           "#FF6692",
           "#B6E880",
           "#FF97FF",
           "#FECB52"
          ],
          "font": {
           "color": "#2a3f5f"
          },
          "geo": {
           "bgcolor": "white",
           "lakecolor": "white",
           "landcolor": "#E5ECF6",
           "showlakes": true,
           "showland": true,
           "subunitcolor": "white"
          },
          "hoverlabel": {
           "align": "left"
          },
          "hovermode": "closest",
          "mapbox": {
           "style": "light"
          },
          "paper_bgcolor": "white",
          "plot_bgcolor": "#E5ECF6",
          "polar": {
           "angularaxis": {
            "gridcolor": "white",
            "linecolor": "white",
            "ticks": ""
           },
           "bgcolor": "#E5ECF6",
           "radialaxis": {
            "gridcolor": "white",
            "linecolor": "white",
            "ticks": ""
           }
          },
          "scene": {
           "xaxis": {
            "backgroundcolor": "#E5ECF6",
            "gridcolor": "white",
            "gridwidth": 2,
            "linecolor": "white",
            "showbackground": true,
            "ticks": "",
            "zerolinecolor": "white"
           },
           "yaxis": {
            "backgroundcolor": "#E5ECF6",
            "gridcolor": "white",
            "gridwidth": 2,
            "linecolor": "white",
            "showbackground": true,
            "ticks": "",
            "zerolinecolor": "white"
           },
           "zaxis": {
            "backgroundcolor": "#E5ECF6",
            "gridcolor": "white",
            "gridwidth": 2,
            "linecolor": "white",
            "showbackground": true,
            "ticks": "",
            "zerolinecolor": "white"
           }
          },
          "shapedefaults": {
           "line": {
            "color": "#2a3f5f"
           }
          },
          "ternary": {
           "aaxis": {
            "gridcolor": "white",
            "linecolor": "white",
            "ticks": ""
           },
           "baxis": {
            "gridcolor": "white",
            "linecolor": "white",
            "ticks": ""
           },
           "bgcolor": "#E5ECF6",
           "caxis": {
            "gridcolor": "white",
            "linecolor": "white",
            "ticks": ""
           }
          },
          "title": {
           "x": 0.05
          },
          "xaxis": {
           "automargin": true,
           "gridcolor": "white",
           "linecolor": "white",
           "ticks": "",
           "title": {
            "standoff": 15
           },
           "zerolinecolor": "white",
           "zerolinewidth": 2
          },
          "yaxis": {
           "automargin": true,
           "gridcolor": "white",
           "linecolor": "white",
           "ticks": "",
           "title": {
            "standoff": 15
           },
           "zerolinecolor": "white",
           "zerolinewidth": 2
          }
         }
        },
        "title": {
         "text": "AI Written Detection in Reddit with threshold 0.87"
        },
        "xaxis": {
         "anchor": "y",
         "domain": [
          0,
          1
         ],
         "title": {
          "text": "Date"
         }
        },
        "yaxis": {
         "anchor": "x",
         "domain": [
          0,
          1
         ],
         "title": {
          "text": "AI Written Detection"
         }
        }
       }
      }
     },
     "metadata": {},
     "output_type": "display_data"
    }
   ],
   "source": [
    "# num_thresholds = len(np.arange(0.84, 0.89, 0.01))\n",
    "# num_rows = (num_thresholds + 2) // 3  # Round up division by 3\n",
    "\n",
    "# fig, axes = plt.subplots(num_rows, 3, figsize=(20, 16 * num_rows))\n",
    "# axes = axes.flatten()\n",
    "\n",
    "# for i, reddit_threshold in enumerate(np.arange(0.84, 0.89, 0.01)):\n",
    "reddit_threshold = 0.87\n",
    "reddit_ai_detection_df = pd.read_csv(\"reddit/reddit_ai_written.csv\")\n",
    "\n",
    "reddit_ai_detection_df[\"ai_written\"] = (\n",
    "    reddit_ai_detection_df[\"ai_written\"] < reddit_threshold\n",
    ")\n",
    "\n",
    "reddit_ai_detection_df = reddit_ai_detection_df[reddit_ai_detection_df[\"year\"] >= 2018]\n",
    "reddit_ai_detection_df = (\n",
    "    reddit_ai_detection_df.groupby([\"year\", \"month\"])[\"ai_written\"].mean().reset_index()\n",
    ")\n",
    "\n",
    "reddit_ai_detection_df[\"date\"] = pd.to_datetime(\n",
    "    reddit_ai_detection_df[\"year\"].astype(str)\n",
    "    + \"-\"\n",
    "    + reddit_ai_detection_df[\"month\"].astype(str)\n",
    ")\n",
    "\n",
    "reddit_ai_detection_df[\"ai_written\"] = (\n",
    "    reddit_ai_detection_df[\"ai_written\"].rolling(window=5).mean()\n",
    ")\n",
    "\n",
    "fig_px = (\n",
    "    px.line(\n",
    "        reddit_ai_detection_df,\n",
    "        x=\"date\",\n",
    "        y=\"ai_written\",\n",
    "        title=f\"AI Written Detection in Reddit with threshold {reddit_threshold:.2f}\",\n",
    "        labels={\"date\": \"Date\", \"ai_written\": \"AI Written Detection\"},\n",
    "    )\n",
    "    .add_vline(\n",
    "        x=\"2018-10-01\",\n",
    "        line_dash=\"dash\",\n",
    "        line_color=\"green\",\n",
    "    )\n",
    "    .add_vline(\n",
    "        x=\"2019-02-01\",\n",
    "        line_dash=\"dash\",\n",
    "        line_color=\"orange\",\n",
    "    )\n",
    "    .add_vline(\n",
    "        x=\"2022-11-01\",\n",
    "        line_dash=\"dash\",\n",
    "        line_color=\"red\",\n",
    "    )\n",
    "    .add_vline(\n",
    "        x=\"2023-03-14\",\n",
    "        line_dash=\"dash\",\n",
    "        line_color=\"blue\",\n",
    "    )\n",
    "    .add_annotation(\n",
    "        x=\"2018-10-01\",\n",
    "        y=-0.1,\n",
    "        text=\"BERT Release\",\n",
    "        showarrow=False,\n",
    "        xanchor=\"center\",\n",
    "        yanchor=\"top\",\n",
    "        yref=\"paper\",\n",
    "    )\n",
    "    .add_annotation(\n",
    "        x=\"2019-02-01\",\n",
    "        y=-0.2,\n",
    "        text=\"GPT-2 Release\",\n",
    "        showarrow=False,\n",
    "        xanchor=\"center\",\n",
    "        yanchor=\"top\",\n",
    "        yref=\"paper\",\n",
    "    )\n",
    "    .add_annotation(\n",
    "        x=\"2022-11-01\",\n",
    "        y=-0.1,\n",
    "        text=\"ChatGPT Release\",\n",
    "        showarrow=False,\n",
    "        xanchor=\"center\",\n",
    "        yanchor=\"top\",\n",
    "        yref=\"paper\",\n",
    "    )\n",
    "    .add_annotation(\n",
    "        x=\"2023-03-14\",\n",
    "        y=-0.2,\n",
    "        text=\"GPT-4 Release\",\n",
    "        showarrow=False,\n",
    "        xanchor=\"center\",\n",
    "        yanchor=\"top\",\n",
    "        yref=\"paper\",\n",
    "    )\n",
    ")\n",
    "\n",
    "fig_px.show()"
   ]
  },
  {
   "cell_type": "code",
   "execution_count": 52,
   "metadata": {},
   "outputs": [],
   "source": [
    "papers_merged_df = pd.merge(\n",
    "    papers_main_df,\n",
    "    papers_grammar_errors_df,\n",
    "    on=[\"year\", \"month\"],\n",
    "    how=\"left\",\n",
    "    suffixes=(\"\", \"_errors\"),\n",
    ")\n",
    "papers_merged_df = pd.merge(\n",
    "    papers_merged_df,\n",
    "    papers_ai_detection_df,\n",
    "    on=[\"year\", \"month\"],\n",
    "    how=\"left\",\n",
    "    suffixes=(\"\", \"_ai\"),\n",
    ")\n",
    "\n",
    "news_merged_df = pd.merge(\n",
    "    news_main_df,\n",
    "    news_grammar_errors_df,\n",
    "    on=[\"year\", \"month\"],\n",
    "    how=\"left\",\n",
    "    suffixes=(\"\", \"_errors\"),\n",
    ")\n",
    "\n",
    "news_merged_df = pd.merge(\n",
    "    news_merged_df,\n",
    "    news_ai_detection_df,\n",
    "    on=[\"year\", \"month\"],\n",
    "    how=\"left\",\n",
    "    suffixes=(\"\", \"_ai\"),\n",
    ")\n",
    "\n",
    "\n",
    "reddit_merged_df = pd.merge(\n",
    "    reddit_main_df,\n",
    "    reddit_errors_df,\n",
    "    on=[\"year\", \"month\"],\n",
    "    how=\"left\",\n",
    "    suffixes=(\"\", \"_errors\"),\n",
    ")\n",
    "\n",
    "reddit_merged_df = pd.merge(\n",
    "    reddit_merged_df,\n",
    "    reddit_ai_detection_df,\n",
    "    on=[\"year\", \"month\"],\n",
    "    how=\"left\",\n",
    "    suffixes=(\"\", \"_ai\"),\n",
    ")"
   ]
  },
  {
   "cell_type": "code",
   "execution_count": 53,
   "metadata": {},
   "outputs": [],
   "source": [
    "feature_to_look_at = \"mean\""
   ]
  },
  {
   "cell_type": "code",
   "execution_count": 76,
   "metadata": {},
   "outputs": [
    {
     "data": {
      "image/png": "[encoded data removed]",
      "text/plain": [
       "<Figure size 800x500 with 3 Axes>"
      ]
     },
     "metadata": {},
     "output_type": "display_data"
    }
   ],
   "source": [
    "# import the standardscaler\n",
    "from sklearn.preprocessing import StandardScaler\n",
    "\n",
    "# just like the previous one, but this time, do one plot per source and show all the features plus the AI written thing in one plot. Do normalization to take into account the different scales for different features. Also, add vertical lines for the release dates of the models\n",
    "\n",
    "complexity_features_to_colors = {\n",
    "    \"ai_written\": \"#ff7f7f\",  # light salmon\n",
    "    \"complexity\": \"#7f7fff\",\n",
    "}\n",
    "\n",
    "final_features = {}\n",
    "\n",
    "feature_name_to_clean_label = {\n",
    "    \"ai_written\": \"AI Written Rate\",\n",
    "    \"complexity\": \"Text Complexity Mean\",\n",
    "    \"ChatGPT Release\": \"ChatGPT Release\",\n",
    "    \"GPT-4 Release\": \"GPT-4 Release\",\n",
    "    \"GPT-4o Release\": \"GPT-4o Release\",\n",
    "}\n",
    "\n",
    "fig, axs = plt.subplots(3, 1, figsize=(8, 5), sharex=True)\n",
    "\n",
    "for main_df, fig_title, ax in zip(\n",
    "    [papers_merged_df, news_merged_df, reddit_merged_df],\n",
    "    [\"ArXiv\", \"Patch News\", \"Reddit\"],\n",
    "    axs,\n",
    "):\n",
    "\n",
    "    main_df = main_df.copy()\n",
    "\n",
    "    normalized_values_dict = {}\n",
    "    for feature in [\"ai_written\", *columns_about_complexity]:\n",
    "        feature = f\"mean_{feature}\" if feature != \"ai_written\" else feature\n",
    "        # feature_values = main_df[feature].rolling(window=5).mean().values\n",
    "        feature_values = main_df[feature].values\n",
    "        feature_value_for_nans_to_be_replaced = feature_values[\n",
    "            ~np.isnan(feature_values)\n",
    "        ][0]\n",
    "        feature_values = np.where(\n",
    "            np.isnan(feature_values),\n",
    "            feature_value_for_nans_to_be_replaced,\n",
    "            feature_values,\n",
    "        )\n",
    "        scaler = StandardScaler()\n",
    "\n",
    "        normalized_values = scaler.fit_transform(\n",
    "            feature_values.reshape(-1, 1)\n",
    "        ).flatten()\n",
    "\n",
    "        normalized_values_dict[feature] = normalized_values\n",
    "\n",
    "    normalized_values_dict[\"complexity\"] = np.mean(\n",
    "        [\n",
    "            normalized_values_dict[\"mean_voc_simpson_index\"],\n",
    "            normalized_values_dict[\"mean_voc_shannon_entropy\"],\n",
    "            normalized_values_dict[\"mean_lex_avg_dependency_link_length\"],\n",
    "            normalized_values_dict[\"mean_voc_type_token_ratio\"],\n",
    "            normalized_values_dict[\"mean_voc_hapax_legomena\"],\n",
    "        ],\n",
    "        axis=0,\n",
    "    )\n",
    "\n",
    "    final_features[fig_title] = normalized_values_dict.copy()\n",
    "    final_features[fig_title][\"date\"] = main_df[\"date\"].values\n",
    "\n",
    "    normalized_values_dict = {\n",
    "        \"ai_written\": normalized_values_dict[\"ai_written\"],\n",
    "        \"complexity\": normalized_values_dict[\"complexity\"],\n",
    "    }\n",
    "\n",
    "    for feature_name, feature_values in normalized_values_dict.items():\n",
    "        ax.plot(\n",
    "            main_df[\"date\"],\n",
    "            feature_values,\n",
    "            label=feature_name_to_clean_label[feature_name.replace(\"mean_\", \"\")],\n",
    "            color=complexity_features_to_colors[\n",
    "                (\n",
    "                    feature_name[feature_name.find(\"_\") + 1 :]\n",
    "                    if \"mean_\" in feature_name\n",
    "                    else feature_name\n",
    "                )\n",
    "            ],\n",
    "            linewidth=4,\n",
    "            alpha=0.8,\n",
    "        )\n",
    "\n",
    "    # Use actual dates instead of indices for the vertical lines\n",
    "\n",
    "    chatgpt_date = pd.to_datetime(\"2022-11-01\")  # https://openai.com/index/chatgpt/\n",
    "\n",
    "    ax.axvline(x=chatgpt_date, color=\"grey\", linestyle=\"--\")\n",
    "\n",
    "    if fig_title == \"Reddit\":\n",
    "\n",
    "        ax.text(\n",
    "            chatgpt_date,\n",
    "            -2.8,\n",
    "            \"ChatGPT Release\",\n",
    "            verticalalignment=\"bottom\",\n",
    "            horizontalalignment=\"center\",\n",
    "            color=\"grey\",\n",
    "        )\n",
    "\n",
    "    # drop the right and up spines\n",
    "    ax.spines[\"right\"].set_visible(False)\n",
    "    ax.spines[\"top\"].set_visible(False)\n",
    "    # both x and y axis should have grids\n",
    "    ax.grid(axis=\"both\")\n",
    "\n",
    "    # for the papers and news, remove the bottom spine\n",
    "    if fig_title != \"Reddit\":\n",
    "        ax.spines[\"bottom\"].set_visible(False)\n",
    "        # also remove the xtick labels\n",
    "        # ax.set_xticklabels([])\n",
    "\n",
    "    # put the name of the dataset on the right x axis label\n",
    "    ax.text(\n",
    "        1.02,\n",
    "        0.5,\n",
    "        fig_title,\n",
    "        rotation=270,\n",
    "        verticalalignment=\"center\",\n",
    "        horizontalalignment=\"center\",\n",
    "        transform=ax.transAxes,\n",
    "    )\n",
    "\n",
    "    # make a legend for the lines of the models with their colors and names\n",
    "models_legend = []\n",
    "for feature_name, color in complexity_features_to_colors.items():\n",
    "    models_legend.append(\n",
    "        plt.Line2D(\n",
    "            [0],\n",
    "            [0],\n",
    "            color=color,\n",
    "            label=feature_name_to_clean_label[feature_name],\n",
    "            linestyle=\"--\" if feature_name.endswith(\"Release\") else \"-\",\n",
    "        )\n",
    "    )\n",
    "\n",
    "# for the figure y axis label, put normalized (z-score) Value and for x axis label, put time\n",
    "fig.supylabel(\"Normalized (z-score) Value\", x=0.05)\n",
    "fig.supxlabel(\"Time\")\n",
    "# draw this for the figure\n",
    "fig.legend(\n",
    "    handles=models_legend, loc=\"upper right\", bbox_to_anchor=(0.44, 0.65), ncol=1\n",
    ")\n",
    "\n",
    "fig.subplots_adjust(hspace=0.04)\n",
    "# plt.tight_layout()\n",
    "plt.savefig(f\"all_sources_complexity_trends_mean.png\", dpi=900, bbox_inches=\"tight\")\n",
    "plt.show()"
   ]
  }
 ],
 "metadata": {
  "kernelspec": {
   "display_name": "myenv",
   "language": "python",
   "name": "python3"
  },
  "language_info": {
   "codemirror_mode": {
    "name": "ipython",
    "version": 3
   },
   "file_extension": ".py",
   "mimetype": "text/x-python",
   "name": "python",
   "nbconvert_exporter": "python",
   "pygments_lexer": "ipython3",
   "version": "3.11.7"
  }
 },
 "nbformat": 4,
 "nbformat_minor": 2
}
